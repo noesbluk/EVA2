{
 "cells": [
  {
   "cell_type": "code",
   "execution_count": 1,
   "id": "551e6260-68a7-47f3-afc8-7d9b889b0ea2",
   "metadata": {},
   "outputs": [
    {
     "data": {
      "application/vnd.jupyter.widget-view+json": {
       "model_id": "52d040641c554d5891b4ab0b924114af",
       "version_major": 2,
       "version_minor": 0
      },
      "text/plain": [
       "interactive(children=(IntSlider(value=32, description='θo', max=34, min=26), FloatSlider(value=0.7, descriptio…"
      ]
     },
     "metadata": {},
     "output_type": "display_data"
    },
    {
     "name": "stdout",
     "output_type": "stream",
     "text": [
      "Control of indoor air temperature (θ5)\n",
      "in CAV systems without reheating\n"
     ]
    }
   ],
   "source": [
    "import coolfig\n",
    "coolfig.fig()"
   ]
  }
 ],
 "metadata": {
  "kernelspec": {
   "display_name": "Python 3",
   "language": "python",
   "name": "python3"
  },
  "language_info": {
   "codemirror_mode": {
    "name": "ipython",
    "version": 3
   },
   "file_extension": ".py",
   "mimetype": "text/x-python",
   "name": "python",
   "nbconvert_exporter": "python",
   "pygments_lexer": "ipython3",
   "version": "3.8.8"
  }
 },
 "nbformat": 4,
 "nbformat_minor": 5
}
